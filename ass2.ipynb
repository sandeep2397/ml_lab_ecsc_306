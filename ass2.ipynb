import tensorflow as tf
a=tf.constant([1.1,2.2,3.3,4.4])
b=tf.constant([2.2,3.3,3,4])

mean_a=tf.reduce_mean(a)
mean_b=tf.reduce_mean(b)

ss=tf.Session()
print (ss.run(mean_a))
print (ss.run(mean_b))

#var_x=tf.nn.weighted_moments(x,,mean_x)
res1=tf.subtract(x,mean_x)


res2=tf.subtract(y,mean_y)


sqr1=tf.square(res1)

sqr2=tf.square(res2)


var1=tf.reduce_sum(sqr1)

var2=tf.reduce_sum(sqr2)

print (ss.run(var1))

print (ss.run(var2))

tmp=tf.multiply(res1,res2)
cov=tf.reduce_sum(tmp)
print (ss.run(cov))


m=tf.div(cov,var1)
print (ss.run(m))

tmp2=tf.multiply(m,mean_x)
c=tf.subtract(mean_y,tmp2)
print (ss.run(c))
